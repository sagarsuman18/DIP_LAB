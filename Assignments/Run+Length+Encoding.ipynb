{
 "cells": [
  {
   "cell_type": "code",
   "execution_count": 4,
   "metadata": {},
   "outputs": [
    {
     "name": "stdout",
     "output_type": "stream",
     "text": [
      "Input Sequence: [0 0 1 1 0 0 1 0 0 1 0 1 0 0 0 0 1 1 0 0 1 1 1 1 1 0 0 0 1 1 0 0 1 0 0 0 1\n",
      " 1 1 1 0 0 1 1 0 1 1 1 1 1 1 0 1 0 1 1 1 1 1 1 1 1 1 1 0 1 1 1 0 1 1 1 0 1\n",
      " 0 0 1 0 0 0 1 0 0 0 0 0 1 1 0 1 0 0 1 1 0 1 0 0 1 0]\n",
      "Run Length Encoding Output :  [ 0  2  1  2  0  2  1  1  0  2  1  1  0  1  1  1  0  4  1  2  0  2  1  5  0\n",
      "  3  1  2  0  2  1  1  0  3  1  4  0  2  1  2  0  1  1  6  0  1  1  1  0  1\n",
      "  1 10  0  1  1  3  0  1  1  3  0  1  1  1  0  2  1  1  0  3  1  1  0  5  1\n",
      "  2  0  1  1  1  0  2  1  2  0  1  1  1  0  2  1  1  0  1]\n",
      "Compression Ratio is: 0.94\n"
     ]
    }
   ],
   "source": [
    "import numpy as np\n",
    "\n",
    "input_stream = np.random.randint(low = 0, high = 2, size = 100)\n",
    "rle = np.zeros(1, dtype = int)\n",
    "i = 1\n",
    "\n",
    "dict = {0:0, 1:0}\n",
    "dict[input_stream[0]] = 1\n",
    "\n",
    "while i < 100:\n",
    "    if input_stream[i] != input_stream[i-1]:\n",
    "        rle = np.append(rle, input_stream[i-1])\n",
    "        rle = np.append(rle, dict[input_stream[i-1]])\n",
    "        dict[input_stream[i-1]] = 0\n",
    "    dict[input_stream[i]] += 1\n",
    "    i += 1\n",
    "rle = np.append(rle, input_stream[i-1])\n",
    "rle = np.append(rle, dict[input_stream[i-1]])\n",
    "rle = np.delete(rle, 0)\n",
    "\n",
    "print(\"Input Sequence:\" , input_stream)\n",
    "print(\"Run Length Encoding Output : \" , rle)\n",
    "\n",
    "if len(rle) <= len(input_stream):\n",
    "    print(\"Compression Ratio is:\", len(rle)/len(input_stream))\n",
    "else:\n",
    "    print(\"Negative Compression obsevred.\")"
   ]
  },
  {
   "cell_type": "code",
   "execution_count": null,
   "metadata": {
    "collapsed": true
   },
   "outputs": [],
   "source": [
    "xz"
   ]
  }
 ],
 "metadata": {
  "kernelspec": {
   "display_name": "Python 3",
   "language": "python",
   "name": "python3"
  },
  "language_info": {
   "codemirror_mode": {
    "name": "ipython",
    "version": 3
   },
   "file_extension": ".py",
   "mimetype": "text/x-python",
   "name": "python",
   "nbconvert_exporter": "python",
   "pygments_lexer": "ipython3",
   "version": "3.6.3"
  }
 },
 "nbformat": 4,
 "nbformat_minor": 2
}
